{
  "nbformat": 4,
  "nbformat_minor": 0,
  "metadata": {
    "colab": {
      "name": "redwine_quality.ipynb",
      "provenance": [],
      "collapsed_sections": []
    },
    "kernelspec": {
      "name": "python3",
      "display_name": "Python 3"
    }
  },
  "cells": [
    {
      "cell_type": "code",
      "metadata": {
        "id": "5vZnBuE5vwwO",
        "colab_type": "code",
        "colab": {}
      },
      "source": [
        "import pandas as pd"
      ],
      "execution_count": null,
      "outputs": []
    },
    {
      "cell_type": "code",
      "metadata": {
        "id": "uN2UmnpgwFEG",
        "colab_type": "code",
        "colab": {}
      },
      "source": [
        "dataset = pd.read_csv('datasets_4458_8204_winequality-red.csv')"
      ],
      "execution_count": null,
      "outputs": []
    },
    {
      "cell_type": "code",
      "metadata": {
        "id": "Spn7PiJiwWt6",
        "colab_type": "code",
        "colab": {
          "base_uri": "https://localhost:8080/",
          "height": 453
        },
        "outputId": "b6f3598a-9c5c-4f02-dde0-3b9a597f6977"
      },
      "source": [
        "dataset"
      ],
      "execution_count": null,
      "outputs": [
        {
          "output_type": "execute_result",
          "data": {
            "text/html": [
              "<div>\n",
              "<style scoped>\n",
              "    .dataframe tbody tr th:only-of-type {\n",
              "        vertical-align: middle;\n",
              "    }\n",
              "\n",
              "    .dataframe tbody tr th {\n",
              "        vertical-align: top;\n",
              "    }\n",
              "\n",
              "    .dataframe thead th {\n",
              "        text-align: right;\n",
              "    }\n",
              "</style>\n",
              "<table border=\"1\" class=\"dataframe\">\n",
              "  <thead>\n",
              "    <tr style=\"text-align: right;\">\n",
              "      <th></th>\n",
              "      <th>fixed acidity</th>\n",
              "      <th>volatile acidity</th>\n",
              "      <th>citric acid</th>\n",
              "      <th>residual sugar</th>\n",
              "      <th>chlorides</th>\n",
              "      <th>free sulfur dioxide</th>\n",
              "      <th>total sulfur dioxide</th>\n",
              "      <th>density</th>\n",
              "      <th>pH</th>\n",
              "      <th>sulphates</th>\n",
              "      <th>alcohol</th>\n",
              "      <th>quality</th>\n",
              "    </tr>\n",
              "  </thead>\n",
              "  <tbody>\n",
              "    <tr>\n",
              "      <th>0</th>\n",
              "      <td>7.4</td>\n",
              "      <td>0.700</td>\n",
              "      <td>0.00</td>\n",
              "      <td>1.9</td>\n",
              "      <td>0.076</td>\n",
              "      <td>11.0</td>\n",
              "      <td>34.0</td>\n",
              "      <td>0.99780</td>\n",
              "      <td>3.51</td>\n",
              "      <td>0.56</td>\n",
              "      <td>9.4</td>\n",
              "      <td>5</td>\n",
              "    </tr>\n",
              "    <tr>\n",
              "      <th>1</th>\n",
              "      <td>7.8</td>\n",
              "      <td>0.880</td>\n",
              "      <td>0.00</td>\n",
              "      <td>2.6</td>\n",
              "      <td>0.098</td>\n",
              "      <td>25.0</td>\n",
              "      <td>67.0</td>\n",
              "      <td>0.99680</td>\n",
              "      <td>3.20</td>\n",
              "      <td>0.68</td>\n",
              "      <td>9.8</td>\n",
              "      <td>5</td>\n",
              "    </tr>\n",
              "    <tr>\n",
              "      <th>2</th>\n",
              "      <td>7.8</td>\n",
              "      <td>0.760</td>\n",
              "      <td>0.04</td>\n",
              "      <td>2.3</td>\n",
              "      <td>0.092</td>\n",
              "      <td>15.0</td>\n",
              "      <td>54.0</td>\n",
              "      <td>0.99700</td>\n",
              "      <td>3.26</td>\n",
              "      <td>0.65</td>\n",
              "      <td>9.8</td>\n",
              "      <td>5</td>\n",
              "    </tr>\n",
              "    <tr>\n",
              "      <th>3</th>\n",
              "      <td>11.2</td>\n",
              "      <td>0.280</td>\n",
              "      <td>0.56</td>\n",
              "      <td>1.9</td>\n",
              "      <td>0.075</td>\n",
              "      <td>17.0</td>\n",
              "      <td>60.0</td>\n",
              "      <td>0.99800</td>\n",
              "      <td>3.16</td>\n",
              "      <td>0.58</td>\n",
              "      <td>9.8</td>\n",
              "      <td>6</td>\n",
              "    </tr>\n",
              "    <tr>\n",
              "      <th>4</th>\n",
              "      <td>7.4</td>\n",
              "      <td>0.700</td>\n",
              "      <td>0.00</td>\n",
              "      <td>1.9</td>\n",
              "      <td>0.076</td>\n",
              "      <td>11.0</td>\n",
              "      <td>34.0</td>\n",
              "      <td>0.99780</td>\n",
              "      <td>3.51</td>\n",
              "      <td>0.56</td>\n",
              "      <td>9.4</td>\n",
              "      <td>5</td>\n",
              "    </tr>\n",
              "    <tr>\n",
              "      <th>...</th>\n",
              "      <td>...</td>\n",
              "      <td>...</td>\n",
              "      <td>...</td>\n",
              "      <td>...</td>\n",
              "      <td>...</td>\n",
              "      <td>...</td>\n",
              "      <td>...</td>\n",
              "      <td>...</td>\n",
              "      <td>...</td>\n",
              "      <td>...</td>\n",
              "      <td>...</td>\n",
              "      <td>...</td>\n",
              "    </tr>\n",
              "    <tr>\n",
              "      <th>1594</th>\n",
              "      <td>6.2</td>\n",
              "      <td>0.600</td>\n",
              "      <td>0.08</td>\n",
              "      <td>2.0</td>\n",
              "      <td>0.090</td>\n",
              "      <td>32.0</td>\n",
              "      <td>44.0</td>\n",
              "      <td>0.99490</td>\n",
              "      <td>3.45</td>\n",
              "      <td>0.58</td>\n",
              "      <td>10.5</td>\n",
              "      <td>5</td>\n",
              "    </tr>\n",
              "    <tr>\n",
              "      <th>1595</th>\n",
              "      <td>5.9</td>\n",
              "      <td>0.550</td>\n",
              "      <td>0.10</td>\n",
              "      <td>2.2</td>\n",
              "      <td>0.062</td>\n",
              "      <td>39.0</td>\n",
              "      <td>51.0</td>\n",
              "      <td>0.99512</td>\n",
              "      <td>3.52</td>\n",
              "      <td>0.76</td>\n",
              "      <td>11.2</td>\n",
              "      <td>6</td>\n",
              "    </tr>\n",
              "    <tr>\n",
              "      <th>1596</th>\n",
              "      <td>6.3</td>\n",
              "      <td>0.510</td>\n",
              "      <td>0.13</td>\n",
              "      <td>2.3</td>\n",
              "      <td>0.076</td>\n",
              "      <td>29.0</td>\n",
              "      <td>40.0</td>\n",
              "      <td>0.99574</td>\n",
              "      <td>3.42</td>\n",
              "      <td>0.75</td>\n",
              "      <td>11.0</td>\n",
              "      <td>6</td>\n",
              "    </tr>\n",
              "    <tr>\n",
              "      <th>1597</th>\n",
              "      <td>5.9</td>\n",
              "      <td>0.645</td>\n",
              "      <td>0.12</td>\n",
              "      <td>2.0</td>\n",
              "      <td>0.075</td>\n",
              "      <td>32.0</td>\n",
              "      <td>44.0</td>\n",
              "      <td>0.99547</td>\n",
              "      <td>3.57</td>\n",
              "      <td>0.71</td>\n",
              "      <td>10.2</td>\n",
              "      <td>5</td>\n",
              "    </tr>\n",
              "    <tr>\n",
              "      <th>1598</th>\n",
              "      <td>6.0</td>\n",
              "      <td>0.310</td>\n",
              "      <td>0.47</td>\n",
              "      <td>3.6</td>\n",
              "      <td>0.067</td>\n",
              "      <td>18.0</td>\n",
              "      <td>42.0</td>\n",
              "      <td>0.99549</td>\n",
              "      <td>3.39</td>\n",
              "      <td>0.66</td>\n",
              "      <td>11.0</td>\n",
              "      <td>6</td>\n",
              "    </tr>\n",
              "  </tbody>\n",
              "</table>\n",
              "<p>1599 rows × 12 columns</p>\n",
              "</div>"
            ],
            "text/plain": [
              "      fixed acidity  volatile acidity  citric acid  ...  sulphates  alcohol  quality\n",
              "0               7.4             0.700         0.00  ...       0.56      9.4        5\n",
              "1               7.8             0.880         0.00  ...       0.68      9.8        5\n",
              "2               7.8             0.760         0.04  ...       0.65      9.8        5\n",
              "3              11.2             0.280         0.56  ...       0.58      9.8        6\n",
              "4               7.4             0.700         0.00  ...       0.56      9.4        5\n",
              "...             ...               ...          ...  ...        ...      ...      ...\n",
              "1594            6.2             0.600         0.08  ...       0.58     10.5        5\n",
              "1595            5.9             0.550         0.10  ...       0.76     11.2        6\n",
              "1596            6.3             0.510         0.13  ...       0.75     11.0        6\n",
              "1597            5.9             0.645         0.12  ...       0.71     10.2        5\n",
              "1598            6.0             0.310         0.47  ...       0.66     11.0        6\n",
              "\n",
              "[1599 rows x 12 columns]"
            ]
          },
          "metadata": {
            "tags": []
          },
          "execution_count": 5
        }
      ]
    },
    {
      "cell_type": "code",
      "metadata": {
        "id": "TQM3Zwejwhj2",
        "colab_type": "code",
        "colab": {}
      },
      "source": [
        "import matplotlib.pyplot as plt"
      ],
      "execution_count": null,
      "outputs": []
    },
    {
      "cell_type": "code",
      "metadata": {
        "id": "kOHK2qf2ysML",
        "colab_type": "code",
        "colab": {
          "base_uri": "https://localhost:8080/",
          "height": 282
        },
        "outputId": "0f029c1e-513e-4dc5-a488-de9da8014902"
      },
      "source": [
        "plt.plot(dataset['fixed acidity'], dataset['citric acid'], 'b.')"
      ],
      "execution_count": null,
      "outputs": [
        {
          "output_type": "execute_result",
          "data": {
            "text/plain": [
              "[<matplotlib.lines.Line2D at 0x7fb1e9d3d710>]"
            ]
          },
          "metadata": {
            "tags": []
          },
          "execution_count": 7
        },
        {
          "output_type": "display_data",
          "data": {
            "image/png": "[encoded data removed]",
            "text/plain": [
              "<Figure size 432x288 with 1 Axes>"
            ]
          },
          "metadata": {
            "tags": [],
            "needs_background": "light"
          }
        }
      ]
    },
    {
      "cell_type": "code",
      "metadata": {
        "id": "uslfXaZTy3yG",
        "colab_type": "code",
        "colab": {}
      },
      "source": [
        "X = dataset.iloc[: , :-1].values\n",
        "y = dataset.iloc[: , -1].values"
      ],
      "execution_count": null,
      "outputs": []
    },
    {
      "cell_type": "code",
      "metadata": {
        "id": "2EJf-qnrzAcY",
        "colab_type": "code",
        "colab": {}
      },
      "source": [
        "from sklearn.model_selection import train_test_split"
      ],
      "execution_count": null,
      "outputs": []
    },
    {
      "cell_type": "code",
      "metadata": {
        "id": "KqV3zMkWzJS7",
        "colab_type": "code",
        "colab": {}
      },
      "source": [
        "X_train, X_test, y_train, y_test = train_test_split(X, y, test_size = 0.2)"
      ],
      "execution_count": null,
      "outputs": []
    },
    {
      "cell_type": "code",
      "metadata": {
        "id": "F4c8zAkMzqlL",
        "colab_type": "code",
        "colab": {
          "base_uri": "https://localhost:8080/",
          "height": 351
        },
        "outputId": "93178f0f-ff43-4743-a93a-4bf80864bffa"
      },
      "source": [
        "dataset.describe()"
      ],
      "execution_count": null,
      "outputs": [
        {
          "output_type": "execute_result",
          "data": {
            "text/html": [
              "<div>\n",
              "<style scoped>\n",
              "    .dataframe tbody tr th:only-of-type {\n",
              "        vertical-align: middle;\n",
              "    }\n",
              "\n",
              "    .dataframe tbody tr th {\n",
              "        vertical-align: top;\n",
              "    }\n",
              "\n",
              "    .dataframe thead th {\n",
              "        text-align: right;\n",
              "    }\n",
              "</style>\n",
              "<table border=\"1\" class=\"dataframe\">\n",
              "  <thead>\n",
              "    <tr style=\"text-align: right;\">\n",
              "      <th></th>\n",
              "      <th>fixed acidity</th>\n",
              "      <th>volatile acidity</th>\n",
              "      <th>citric acid</th>\n",
              "      <th>residual sugar</th>\n",
              "      <th>chlorides</th>\n",
              "      <th>free sulfur dioxide</th>\n",
              "      <th>total sulfur dioxide</th>\n",
              "      <th>density</th>\n",
              "      <th>pH</th>\n",
              "      <th>sulphates</th>\n",
              "      <th>alcohol</th>\n",
              "      <th>quality</th>\n",
              "    </tr>\n",
              "  </thead>\n",
              "  <tbody>\n",
              "    <tr>\n",
              "      <th>count</th>\n",
              "      <td>1599.000000</td>\n",
              "      <td>1599.000000</td>\n",
              "      <td>1599.000000</td>\n",
              "      <td>1599.000000</td>\n",
              "      <td>1599.000000</td>\n",
              "      <td>1599.000000</td>\n",
              "      <td>1599.000000</td>\n",
              "      <td>1599.000000</td>\n",
              "      <td>1599.000000</td>\n",
              "      <td>1599.000000</td>\n",
              "      <td>1599.000000</td>\n",
              "      <td>1599.000000</td>\n",
              "    </tr>\n",
              "    <tr>\n",
              "      <th>mean</th>\n",
              "      <td>8.319637</td>\n",
              "      <td>0.527821</td>\n",
              "      <td>0.270976</td>\n",
              "      <td>2.538806</td>\n",
              "      <td>0.087467</td>\n",
              "      <td>15.874922</td>\n",
              "      <td>46.467792</td>\n",
              "      <td>0.996747</td>\n",
              "      <td>3.311113</td>\n",
              "      <td>0.658149</td>\n",
              "      <td>10.422983</td>\n",
              "      <td>5.636023</td>\n",
              "    </tr>\n",
              "    <tr>\n",
              "      <th>std</th>\n",
              "      <td>1.741096</td>\n",
              "      <td>0.179060</td>\n",
              "      <td>0.194801</td>\n",
              "      <td>1.409928</td>\n",
              "      <td>0.047065</td>\n",
              "      <td>10.460157</td>\n",
              "      <td>32.895324</td>\n",
              "      <td>0.001887</td>\n",
              "      <td>0.154386</td>\n",
              "      <td>0.169507</td>\n",
              "      <td>1.065668</td>\n",
              "      <td>0.807569</td>\n",
              "    </tr>\n",
              "    <tr>\n",
              "      <th>min</th>\n",
              "      <td>4.600000</td>\n",
              "      <td>0.120000</td>\n",
              "      <td>0.000000</td>\n",
              "      <td>0.900000</td>\n",
              "      <td>0.012000</td>\n",
              "      <td>1.000000</td>\n",
              "      <td>6.000000</td>\n",
              "      <td>0.990070</td>\n",
              "      <td>2.740000</td>\n",
              "      <td>0.330000</td>\n",
              "      <td>8.400000</td>\n",
              "      <td>3.000000</td>\n",
              "    </tr>\n",
              "    <tr>\n",
              "      <th>25%</th>\n",
              "      <td>7.100000</td>\n",
              "      <td>0.390000</td>\n",
              "      <td>0.090000</td>\n",
              "      <td>1.900000</td>\n",
              "      <td>0.070000</td>\n",
              "      <td>7.000000</td>\n",
              "      <td>22.000000</td>\n",
              "      <td>0.995600</td>\n",
              "      <td>3.210000</td>\n",
              "      <td>0.550000</td>\n",
              "      <td>9.500000</td>\n",
              "      <td>5.000000</td>\n",
              "    </tr>\n",
              "    <tr>\n",
              "      <th>50%</th>\n",
              "      <td>7.900000</td>\n",
              "      <td>0.520000</td>\n",
              "      <td>0.260000</td>\n",
              "      <td>2.200000</td>\n",
              "      <td>0.079000</td>\n",
              "      <td>14.000000</td>\n",
              "      <td>38.000000</td>\n",
              "      <td>0.996750</td>\n",
              "      <td>3.310000</td>\n",
              "      <td>0.620000</td>\n",
              "      <td>10.200000</td>\n",
              "      <td>6.000000</td>\n",
              "    </tr>\n",
              "    <tr>\n",
              "      <th>75%</th>\n",
              "      <td>9.200000</td>\n",
              "      <td>0.640000</td>\n",
              "      <td>0.420000</td>\n",
              "      <td>2.600000</td>\n",
              "      <td>0.090000</td>\n",
              "      <td>21.000000</td>\n",
              "      <td>62.000000</td>\n",
              "      <td>0.997835</td>\n",
              "      <td>3.400000</td>\n",
              "      <td>0.730000</td>\n",
              "      <td>11.100000</td>\n",
              "      <td>6.000000</td>\n",
              "    </tr>\n",
              "    <tr>\n",
              "      <th>max</th>\n",
              "      <td>15.900000</td>\n",
              "      <td>1.580000</td>\n",
              "      <td>1.000000</td>\n",
              "      <td>15.500000</td>\n",
              "      <td>0.611000</td>\n",
              "      <td>72.000000</td>\n",
              "      <td>289.000000</td>\n",
              "      <td>1.003690</td>\n",
              "      <td>4.010000</td>\n",
              "      <td>2.000000</td>\n",
              "      <td>14.900000</td>\n",
              "      <td>8.000000</td>\n",
              "    </tr>\n",
              "  </tbody>\n",
              "</table>\n",
              "</div>"
            ],
            "text/plain": [
              "       fixed acidity  volatile acidity  ...      alcohol      quality\n",
              "count    1599.000000       1599.000000  ...  1599.000000  1599.000000\n",
              "mean        8.319637          0.527821  ...    10.422983     5.636023\n",
              "std         1.741096          0.179060  ...     1.065668     0.807569\n",
              "min         4.600000          0.120000  ...     8.400000     3.000000\n",
              "25%         7.100000          0.390000  ...     9.500000     5.000000\n",
              "50%         7.900000          0.520000  ...    10.200000     6.000000\n",
              "75%         9.200000          0.640000  ...    11.100000     6.000000\n",
              "max        15.900000          1.580000  ...    14.900000     8.000000\n",
              "\n",
              "[8 rows x 12 columns]"
            ]
          },
          "metadata": {
            "tags": []
          },
          "execution_count": 12
        }
      ]
    },
    {
      "cell_type": "code",
      "metadata": {
        "id": "clQw_zO6zzdW",
        "colab_type": "code",
        "colab": {
          "base_uri": "https://localhost:8080/",
          "height": 292
        },
        "outputId": "2155baf1-83ab-4158-81aa-cbc0e25ddc82"
      },
      "source": [
        "dataset[dataset.isnull()=='True'].count()"
      ],
      "execution_count": null,
      "outputs": [
        {
          "output_type": "stream",
          "text": [
            "/usr/local/lib/python3.6/dist-packages/pandas/core/ops/array_ops.py:253: FutureWarning: elementwise comparison failed; returning scalar instead, but in the future will perform elementwise comparison\n",
            "  res_values = method(rvalues)\n"
          ],
          "name": "stderr"
        },
        {
          "output_type": "execute_result",
          "data": {
            "text/plain": [
              "fixed acidity           0\n",
              "volatile acidity        0\n",
              "citric acid             0\n",
              "residual sugar          0\n",
              "chlorides               0\n",
              "free sulfur dioxide     0\n",
              "total sulfur dioxide    0\n",
              "density                 0\n",
              "pH                      0\n",
              "sulphates               0\n",
              "alcohol                 0\n",
              "quality                 0\n",
              "dtype: int64"
            ]
          },
          "metadata": {
            "tags": []
          },
          "execution_count": 13
        }
      ]
    },
    {
      "cell_type": "code",
      "metadata": {
        "id": "wJgjqWNzCCUY",
        "colab_type": "code",
        "colab": {
          "base_uri": "https://localhost:8080/",
          "height": 34
        },
        "outputId": "e40ece46-9359-4d07-d83a-6cacbd3b6361"
      },
      "source": [
        "print(\"shape of our dataset of redwine: {s}\".format (s=dataset.shape))"
      ],
      "execution_count": null,
      "outputs": [
        {
          "output_type": "stream",
          "text": [
            "shape of our dataset of redwine: (1599, 12)\n"
          ],
          "name": "stdout"
        }
      ]
    },
    {
      "cell_type": "code",
      "metadata": {
        "id": "RtCzYTbIIvlE",
        "colab_type": "code",
        "colab": {
          "base_uri": "https://localhost:8080/",
          "height": 221
        },
        "outputId": "7f00801e-b553-4321-969b-2dd2d187c3d4"
      },
      "source": [
        "dataset['quality'].unique"
      ],
      "execution_count": null,
      "outputs": [
        {
          "output_type": "execute_result",
          "data": {
            "text/plain": [
              "<bound method Series.unique of 0       5\n",
              "1       5\n",
              "2       5\n",
              "3       6\n",
              "4       5\n",
              "       ..\n",
              "1594    5\n",
              "1595    6\n",
              "1596    6\n",
              "1597    5\n",
              "1598    6\n",
              "Name: quality, Length: 1599, dtype: int64>"
            ]
          },
          "metadata": {
            "tags": []
          },
          "execution_count": 15
        }
      ]
    },
    {
      "cell_type": "code",
      "metadata": {
        "id": "-XiJm8ixKFkd",
        "colab_type": "code",
        "colab": {
          "base_uri": "https://localhost:8080/",
          "height": 136
        },
        "outputId": "950c80ee-ee86-4efb-d9bf-d5074ae414e2"
      },
      "source": [
        "dataset.quality.value_counts().sort_index"
      ],
      "execution_count": null,
      "outputs": [
        {
          "output_type": "execute_result",
          "data": {
            "text/plain": [
              "<bound method Series.sort_index of 5    681\n",
              "6    638\n",
              "7    199\n",
              "4     53\n",
              "8     18\n",
              "3     10\n",
              "Name: quality, dtype: int64>"
            ]
          },
          "metadata": {
            "tags": []
          },
          "execution_count": 16
        }
      ]
    },
    {
      "cell_type": "code",
      "metadata": {
        "id": "GGrtULIEzNpt",
        "colab_type": "code",
        "colab": {}
      },
      "source": [
        "from sklearn.linear_model import LinearRegression\n",
        "\n",
        "from sklearn.model_selection import train_test_split\n",
        "X_train, X_test, y_train, y_test = train_test_split(X, y, test_size = 0.2)"
      ],
      "execution_count": null,
      "outputs": []
    },
    {
      "cell_type": "code",
      "metadata": {
        "id": "p3z4Zp7IzV65",
        "colab_type": "code",
        "colab": {
          "base_uri": "https://localhost:8080/",
          "height": 34
        },
        "outputId": "7a427fb8-d038-4303-840e-c4cb8723c720"
      },
      "source": [
        "reg = LinearRegression()\n",
        "reg.fit(X_train, y_train)\n"
      ],
      "execution_count": null,
      "outputs": [
        {
          "output_type": "execute_result",
          "data": {
            "text/plain": [
              "LinearRegression(copy_X=True, fit_intercept=True, n_jobs=None, normalize=False)"
            ]
          },
          "metadata": {
            "tags": []
          },
          "execution_count": 18
        }
      ]
    },
    {
      "cell_type": "code",
      "metadata": {
        "id": "eQxWOwGBa60A",
        "colab_type": "code",
        "colab": {}
      },
      "source": [
        "pred = reg.predict(X_test)"
      ],
      "execution_count": null,
      "outputs": []
    },
    {
      "cell_type": "code",
      "metadata": {
        "id": "umLgCcz4e2m7",
        "colab_type": "code",
        "colab": {
          "base_uri": "https://localhost:8080/",
          "height": 136
        },
        "outputId": "ad447959-c2ae-429f-a978-67516da9d40d"
      },
      "source": [
        "import numpy as np\n",
        "array_= np.array(X_train)\n",
        "array_"
      ],
      "execution_count": null,
      "outputs": [
        {
          "output_type": "execute_result",
          "data": {
            "text/plain": [
              "array([[ 6.6  ,  0.7  ,  0.08 , ...,  3.44 ,  0.58 , 10.2  ],\n",
              "       [ 7.5  ,  0.61 ,  0.2  , ...,  3.1  ,  0.4  ,  9.3  ],\n",
              "       [ 8.9  ,  0.59 ,  0.5  , ...,  3.04 ,  1.61 ,  9.5  ],\n",
              "       ...,\n",
              "       [ 8.9  ,  0.595,  0.41 , ...,  3.27 ,  0.57 ,  9.3  ],\n",
              "       [ 6.4  ,  0.36 ,  0.21 , ...,  3.47 ,  0.77 ,  9.7  ],\n",
              "       [ 7.8  ,  0.34 ,  0.37 , ...,  3.34 ,  0.59 ,  9.4  ]])"
            ]
          },
          "metadata": {
            "tags": []
          },
          "execution_count": 43
        }
      ]
    },
    {
      "cell_type": "code",
      "metadata": {
        "id": "ZMyL6cSbc8Id",
        "colab_type": "code",
        "colab": {
          "base_uri": "https://localhost:8080/",
          "height": 1000
        },
        "outputId": "e50a25e8-dfae-4c2d-dc26-702b23b763c1"
      },
      "source": [
        "pred"
      ],
      "execution_count": null,
      "outputs": [
        {
          "output_type": "execute_result",
          "data": {
            "text/plain": [
              "array([5.74710074, 5.41803065, 5.87253893, 5.11683101, 5.26635184,\n",
              "       5.46202232, 5.74686983, 6.60462913, 5.03663046, 5.70308253,\n",
              "       5.23895857, 6.33317658, 5.91479907, 5.89364403, 6.14318057,\n",
              "       5.39217377, 4.88961618, 5.96558708, 7.60129938, 5.30287808,\n",
              "       5.83680176, 6.64020729, 5.68750399, 5.32589403, 5.68563245,\n",
              "       6.10276759, 5.37100574, 6.1145174 , 5.26651548, 6.23362989,\n",
              "       5.58589207, 5.75015827, 6.05630159, 5.18275123, 5.61136155,\n",
              "       5.44161818, 6.58500203, 5.79798583, 5.09896148, 6.14248218,\n",
              "       5.80072268, 5.72704574, 5.24766129, 6.08974511, 6.93972662,\n",
              "       5.75346147, 6.0113686 , 6.74649348, 5.51060018, 5.83277483,\n",
              "       4.8395939 , 5.37150812, 5.65297185, 5.78532111, 4.79236691,\n",
              "       6.59626103, 6.09957624, 4.31327484, 5.36026931, 5.03169282,\n",
              "       5.97475122, 6.1358043 , 4.39117075, 5.4550813 , 5.70875844,\n",
              "       4.79758069, 5.35565792, 6.04632205, 5.12551945, 5.25499248,\n",
              "       5.57499801, 6.21963749, 5.25159852, 5.70333561, 6.47286609,\n",
              "       5.53073256, 5.38344328, 4.94274238, 5.37693554, 6.11863047,\n",
              "       5.08356581, 5.1866084 , 6.47124649, 5.48604083, 5.86027749,\n",
              "       5.05591318, 5.78404713, 5.23825928, 5.38113308, 6.76027966,\n",
              "       5.03807039, 6.04876817, 6.23362989, 5.21894013, 5.0327655 ,\n",
              "       5.94976229, 5.04742774, 5.78402142, 5.74349199, 5.58572287,\n",
              "       5.71281901, 5.21123712, 6.07244903, 6.3232739 , 6.14248218,\n",
              "       5.12924931, 5.43760229, 5.49933702, 5.53658218, 5.0733631 ,\n",
              "       5.84328709, 5.73617263, 6.12064011, 5.68893667, 5.32891754,\n",
              "       5.83809059, 5.60515996, 5.12488634, 4.96602783, 5.11455893,\n",
              "       4.74956616, 5.94061374, 5.61986772, 5.95405002, 5.17968845,\n",
              "       5.59066937, 6.28446455, 5.26198566, 5.29971177, 6.22736296,\n",
              "       5.59727022, 4.90532912, 6.27468571, 5.40447504, 5.32381973,\n",
              "       5.38121345, 5.71927485, 5.63221133, 6.94207464, 4.78982646,\n",
              "       5.29610775, 5.18323472, 5.07204348, 5.47761124, 6.14367154,\n",
              "       5.42787214, 5.1143222 , 5.88777854, 6.51237743, 6.38070473,\n",
              "       6.56686502, 5.30448618, 6.32717756, 5.02114708, 5.76568564,\n",
              "       5.02006776, 6.89112607, 5.34795913, 6.24958472, 5.01594547,\n",
              "       5.77458248, 6.21999852, 6.31691334, 5.43688824, 5.05427311,\n",
              "       5.42923158, 6.12639093, 5.01252889, 5.23895857, 5.02114708,\n",
              "       5.29603324, 5.26343231, 5.18561076, 5.65811639, 5.37048472,\n",
              "       5.99341862, 6.05766996, 5.47565176, 6.18867711, 5.97494429,\n",
              "       5.40693427, 4.96295007, 5.51291346, 5.87836216, 5.29716292,\n",
              "       5.5075803 , 4.88933539, 6.55263785, 5.24582613, 5.48050394,\n",
              "       5.57822845, 6.45811025, 6.5657797 , 5.89191102, 6.24161616,\n",
              "       4.88580592, 5.05283634, 5.04028657, 5.80320473, 5.58766601,\n",
              "       5.05869527, 5.99454415, 5.42158365, 5.15686608, 5.13220877,\n",
              "       5.35061005, 5.43919731, 5.64946241, 5.97730906, 5.58899659,\n",
              "       4.9343987 , 5.35061005, 5.50667448, 5.36532113, 5.51944452,\n",
              "       5.27231603, 5.60543743, 5.64733747, 5.25421473, 5.85596177,\n",
              "       5.67567009, 5.54729576, 6.14098623, 6.51222517, 5.00837724,\n",
              "       4.97485681, 5.4938642 , 5.54066097, 6.14564199, 6.28233683,\n",
              "       5.90293416, 6.45758403, 6.21498631, 5.77458248, 5.15262472,\n",
              "       5.19899892, 6.35499842, 5.02275084, 5.68409222, 5.26730947,\n",
              "       4.63334811, 5.3337421 , 5.1045814 , 6.07515832, 6.28446455,\n",
              "       5.03189392, 5.89594537, 5.70333561, 5.01704087, 4.98073434,\n",
              "       5.094651  , 5.49307601, 5.0996206 , 5.39269112, 4.98638996,\n",
              "       5.64621971, 5.03475488, 5.67101701, 5.40784416, 5.85099494,\n",
              "       5.59092069, 4.6876209 , 5.53848021, 5.93302446, 5.25159852,\n",
              "       6.37077736, 5.6992315 , 5.29532103, 5.11406281, 5.93204582,\n",
              "       6.52055101, 5.18195964, 5.49381912, 5.53957841, 6.24243515,\n",
              "       5.71446721, 4.85797051, 5.85435822, 5.06323093, 6.60207822,\n",
              "       5.54858668, 6.07193012, 5.26831379, 6.24599657, 5.18589538,\n",
              "       4.96370979, 5.10147916, 5.60634815, 5.76206723, 5.24090426,\n",
              "       6.7541487 , 5.80072268, 5.801846  , 6.51805149, 5.86969209,\n",
              "       5.00450361, 6.37698284, 5.21124741, 6.45594034, 5.32776372,\n",
              "       5.33263732, 5.01450471, 6.35360516, 5.35061005, 5.22105247,\n",
              "       5.34278936, 4.8837987 , 5.43178572, 5.61138997, 5.29989575,\n",
              "       6.06878413, 6.07193012, 5.37715947, 5.33055749, 5.43676329,\n",
              "       6.32906975, 5.12045941, 6.28246178, 6.24907743, 5.18771201])"
            ]
          },
          "metadata": {
            "tags": []
          },
          "execution_count": 21
        }
      ]
    },
    {
      "cell_type": "code",
      "metadata": {
        "id": "toEp7O3Zi302",
        "colab_type": "code",
        "colab": {
          "base_uri": "https://localhost:8080/",
          "height": 1000
        },
        "outputId": "b09f74f0-a5f8-4b0e-9ab5-7700136bccc2"
      },
      "source": [
        "for i in range(len(X_test)):\n",
        "    print(pred[i] , y_test[i], pred[i] - y_test[i])"
      ],
      "execution_count": null,
      "outputs": [
        {
          "output_type": "stream",
          "text": [
            "5.747100736705367 4 1.7471007367053666\n",
            "5.418030654614583 6 -0.5819693453854171\n",
            "5.872538932897118 5 0.8725389328971183\n",
            "5.1168310057601225 5 0.11683100576012251\n",
            "5.266351838677021 5 0.2663518386770214\n",
            "5.462022318300878 6 -0.5379776816991217\n",
            "5.746869825053118 6 -0.2531301749468824\n",
            "6.604629132430482 7 -0.3953708675695182\n",
            "5.036630455189563 5 0.036630455189563094\n",
            "5.703082532910912 7 -1.296917467089088\n",
            "5.23895856746465 6 -0.7610414325353503\n",
            "6.333176579056957 5 1.333176579056957\n",
            "5.914799070106078 6 -0.08520092989392225\n",
            "5.893644030201287 5 0.8936440302012869\n",
            "6.143180573571822 6 0.14318057357182212\n",
            "5.392173765138541 5 0.39217376513854063\n",
            "4.88961618320981 5 -0.11038381679018983\n",
            "5.965587080220683 6 -0.034412919779317264\n",
            "7.601299383471105 5 2.6012993834711047\n",
            "5.302878079025049 5 0.3028780790250494\n",
            "5.836801764025271 6 -0.16319823597472904\n",
            "6.640207285480194 6 0.6402072854801943\n",
            "5.68750399318715 6 -0.31249600681285017\n",
            "5.325894026093309 5 0.32589402609330875\n",
            "5.685632451661679 4 1.6856324516616787\n",
            "6.102767592653599 7 -0.8972324073464009\n",
            "5.371005735409824 5 0.37100573540982396\n",
            "6.114517402667456 5 1.114517402667456\n",
            "5.266515481729623 5 0.26651548172962336\n",
            "6.2336298870925155 6 0.23362988709251553\n",
            "5.58589207457867 7 -1.4141079254213302\n",
            "5.7501582723852 5 0.7501582723851996\n",
            "6.056301588982606 5 1.0563015889826062\n",
            "5.182751230984042 5 0.18275123098404222\n",
            "5.611361551643558 5 0.611361551643558\n",
            "5.4416181841151605 6 -0.5583818158848395\n",
            "6.585002029807406 7 -0.4149979701925943\n",
            "5.797985827281888 6 -0.20201417271811195\n",
            "5.09896148172523 5 0.09896148172522956\n",
            "6.1424821837232635 7 -0.8575178162767365\n",
            "5.800722678997115 6 -0.1992773210028851\n",
            "5.727045738623172 5 0.7270457386231719\n",
            "5.247661287469192 5 0.24766128746919236\n",
            "6.089745111322216 5 1.089745111322216\n",
            "6.939726623246202 6 0.9397266232462016\n",
            "5.753461469974113 7 -1.2465385300258873\n",
            "6.0113686021303 5 1.0113686021303003\n",
            "6.746493478183655 7 -0.2535065218163446\n",
            "5.510600178982795 6 -0.48939982101720503\n",
            "5.832774827223336 5 0.8327748272233357\n",
            "4.839593899249589 3 1.8395938992495893\n",
            "5.371508123052287 5 0.371508123052287\n",
            "5.652971847344425 6 -0.3470281526555752\n",
            "5.785321108139431 6 -0.21467889186056865\n",
            "4.792366912533463 5 -0.20763308746653664\n",
            "6.596261025354881 6 0.596261025354881\n",
            "6.099576242130382 6 0.0995762421303823\n",
            "4.313274837336468 5 -0.6867251626635316\n",
            "5.360269309996003 6 -0.6397306900039972\n",
            "5.0316928212455245 6 -0.9683071787544755\n",
            "5.97475121755042 7 -1.0252487824495802\n",
            "6.135804295427985 7 -0.8641957045720154\n",
            "4.391170753580852 3 1.3911707535808517\n",
            "5.455081303817028 6 -0.5449186961829717\n",
            "5.708758441934574 6 -0.2912415580654262\n",
            "4.797580685334985 5 -0.20241931466501484\n",
            "5.355657921942022 5 0.35565792194202217\n",
            "6.046322054435468 6 0.04632205443546766\n",
            "5.125519446184118 6 -0.8744805538158822\n",
            "5.254992482699375 6 -0.7450075173006248\n",
            "5.5749980057967505 6 -0.42500199420324947\n",
            "6.219637492896386 7 -0.7803625071036144\n",
            "5.2515985170804385 5 0.25159851708043846\n",
            "5.703335608375799 6 -0.29666439162420133\n",
            "6.472866092518149 7 -0.5271339074818506\n",
            "5.530732561899665 6 -0.469267438100335\n",
            "5.383443277092663 6 -0.6165567229073368\n",
            "4.942742382240109 5 -0.05725761775989113\n",
            "5.376935535029457 5 0.37693553502945676\n",
            "6.1186304687642235 7 -0.8813695312357765\n",
            "5.083565805398713 5 0.08356580539871317\n",
            "5.186608404317958 5 0.18660840431795833\n",
            "6.471246494342498 6 0.4712464943424983\n",
            "5.486040827014417 6 -0.513959172985583\n",
            "5.8602774933757935 7 -1.1397225066242065\n",
            "5.055913178355372 5 0.055913178355371684\n",
            "5.784047128971714 5 0.7840471289717144\n",
            "5.238259283872921 6 -0.761740716127079\n",
            "5.381133084565175 5 0.3811330845651746\n",
            "6.760279660234101 6 0.7602796602341009\n",
            "5.038070387087149 5 0.03807038708714927\n",
            "6.0487681666623665 6 0.0487681666623665\n",
            "6.2336298870925155 6 0.23362988709251553\n",
            "5.218940125254374 5 0.2189401252543739\n",
            "5.032765499567745 5 0.03276549956774488\n",
            "5.949762286906523 8 -2.050237713093477\n",
            "5.047427740056676 5 0.04742774005667627\n",
            "5.784021424253336 5 0.7840214242533357\n",
            "5.743491992606327 6 -0.2565080073936734\n",
            "5.5857228748666365 6 -0.41427712513336346\n",
            "5.712819008903246 6 -0.2871809910967542\n",
            "5.211237118179717 5 0.21123711817971724\n",
            "6.0724490344696065 7 -0.9275509655303935\n",
            "6.323273903063544 7 -0.6767260969364557\n",
            "6.1424821837232635 7 -0.8575178162767365\n",
            "5.129249311278066 5 0.12924931127806616\n",
            "5.437602286138954 6 -0.5623977138610456\n",
            "5.499337018992261 5 0.4993370189922608\n",
            "5.536582184663054 5 0.5365821846630539\n",
            "5.073363103891577 5 0.07336310389157674\n",
            "5.843287088915698 6 -0.15671291108430196\n",
            "5.73617263087926 6 -0.26382736912074023\n",
            "6.120640106563606 6 0.1206401065636058\n",
            "5.688936665136524 5 0.6889366651365236\n",
            "5.3289175373678965 5 0.32891753736789653\n",
            "5.838090585675612 7 -1.1619094143243878\n",
            "5.605159963298124 6 -0.3948400367018756\n",
            "5.124886344343583 6 -0.875113655656417\n",
            "4.9660278318867626 5 -0.033972168113237444\n",
            "5.114558932689771 5 0.11455893268977135\n",
            "4.749566158778027 3 1.749566158778027\n",
            "5.940613744431328 5 0.9406137444313281\n",
            "5.619867720009399 6 -0.38013227999060106\n",
            "5.954050017773067 5 0.9540500177730671\n",
            "5.179688446036852 6 -0.8203115539631476\n",
            "5.590669369176421 6 -0.4093306308235789\n",
            "6.2844645526101175 6 0.2844645526101175\n",
            "5.261985657825633 6 -0.7380143421743668\n",
            "5.299711773653094 5 0.29971177365309387\n",
            "6.227362957202356 6 0.2273629572023559\n",
            "5.597270217538281 5 0.5972702175382807\n",
            "4.905329121763749 5 -0.09467087823625064\n",
            "6.274685714607109 6 0.27468571460710933\n",
            "5.404475038299378 6 -0.5955249617006224\n",
            "5.323819732479894 5 0.32381973247989393\n",
            "5.381213447415952 5 0.3812134474159521\n",
            "5.719274847376333 5 0.7192748473763331\n",
            "5.6322113349169705 6 -0.36778866508302954\n",
            "6.942074643776458 7 -0.057925356223542224\n",
            "4.789826457423519 5 -0.2101735425764808\n",
            "5.296107749254293 5 0.2961077492542934\n",
            "5.183234720781037 6 -0.8167652792189628\n",
            "5.072043482578831 5 0.07204348257883098\n",
            "5.477611241246308 4 1.4776112412463078\n",
            "6.1436715376742335 7 -0.8563284623257665\n",
            "5.427872137087963 5 0.427872137087963\n",
            "5.11432220494164 5 0.11432220494164014\n",
            "5.887778539179241 5 0.8877785391792408\n",
            "6.512377431240644 6 0.5123774312406439\n",
            "6.38070473475188 7 -0.6192952652481196\n",
            "6.566865021150502 7 -0.43313497884949825\n",
            "5.3044861817518445 5 0.3044861817518445\n",
            "6.327177564305998 5 1.3271775643059982\n",
            "5.021147079122045 6 -0.9788529208779551\n",
            "5.765685640248581 5 0.7656856402485808\n",
            "5.020067764000512 5 0.0200677640005118\n",
            "6.891126066787248 6 0.8911260667872476\n",
            "5.3479591348177316 5 0.34795913481773155\n",
            "6.249584723227834 6 0.24958472322783365\n",
            "5.015945468737701 5 0.015945468737701418\n",
            "5.7745824837838065 6 -0.22541751621619355\n",
            "6.2199985160178315 7 -0.7800014839821685\n",
            "6.316913340690796 7 -0.683086659309204\n",
            "5.436888241232165 6 -0.5631117587678354\n",
            "5.054273108707836 5 0.05427310870783586\n",
            "5.429231580288199 5 0.4292315802881994\n",
            "6.126390926896864 6 0.12639092689686393\n",
            "5.0125288932560395 5 0.012528893256039453\n",
            "5.23895856746465 6 -0.7610414325353503\n",
            "5.021147079122045 6 -0.9788529208779551\n",
            "5.296033244990401 5 0.29603324499040085\n",
            "5.263432313165783 4 1.263432313165783\n",
            "5.185610759409986 6 -0.8143892405900139\n",
            "5.658116391378119 5 0.658116391378119\n",
            "5.37048471537511 5 0.37048471537510963\n",
            "5.993418620592124 7 -1.0065813794078764\n",
            "6.0576699604254465 6 0.057669960425446476\n",
            "5.475651756558513 5 0.4756517565585128\n",
            "6.188677109364658 7 -0.811322890635342\n",
            "5.974944291825249 6 -0.02505570817475089\n",
            "5.406934270370574 6 -0.5930657296294264\n",
            "4.962950072311667 6 -1.037049927688333\n",
            "5.512913463755936 6 -0.48708653624406395\n",
            "5.878362157279046 5 0.8783621572790459\n",
            "5.297162920667507 6 -0.7028370793324932\n",
            "5.5075802993724245 6 -0.49241970062757545\n",
            "4.889335392934221 5 -0.11066460706577885\n",
            "6.552637850583139 7 -0.44736214941686114\n",
            "5.245826134230743 5 0.24582613423074307\n",
            "5.480503938927818 5 0.48050393892781784\n",
            "5.578228445535029 5 0.5782284455350286\n",
            "6.458110246681873 6 0.4581102466818727\n",
            "6.565779703117332 7 -0.4342202968826676\n",
            "5.891911022789362 7 -1.1080889772106381\n",
            "6.241616157851478 6 0.24161615785147816\n",
            "4.885805923012626 6 -1.1141940769873742\n",
            "5.05283633633168 5 0.052836336331679945\n",
            "5.040286571992912 5 0.040286571992911746\n",
            "5.803204730751741 6 -0.19679526924825907\n",
            "5.587666008305394 6 -0.41233399169460583\n",
            "5.058695273512502 5 0.0586952735125017\n",
            "5.994544147675075 6 -0.005455852324924848\n",
            "5.421583647317458 5 0.42158364731745834\n",
            "5.156866078849237 6 -0.8431339211507627\n",
            "5.132208770016998 5 0.13220877001699805\n",
            "5.350610045534939 5 0.350610045534939\n",
            "5.439197310801273 5 0.4391973108012728\n",
            "5.649462409402684 6 -0.35053759059731604\n",
            "5.977309060364156 5 0.9773090603641563\n",
            "5.588996592018422 5 0.5889965920184217\n",
            "4.934398698539965 5 -0.06560130146003473\n",
            "5.350610045534939 5 0.350610045534939\n",
            "5.5066744772772545 5 0.5066744772772545\n",
            "5.365321125525423 6 -0.6346788744745773\n",
            "5.519444517067253 6 -0.48055548293274697\n",
            "5.2723160294907 6 -0.7276839705093003\n",
            "5.605437429440993 6 -0.3945625705590068\n",
            "5.647337474654126 5 0.647337474654126\n",
            "5.254214729893171 6 -0.745785270106829\n",
            "5.855961774773576 6 -0.1440382252264243\n",
            "5.675670086851849 5 0.6756700868518486\n",
            "5.547295756901232 6 -0.45270424309876844\n",
            "6.140986228843989 7 -0.8590137711560111\n",
            "6.512225169059761 7 -0.4877748309402392\n",
            "5.008377235001998 5 0.008377235001997718\n",
            "4.974856809958492 6 -1.0251431900415078\n",
            "5.493864203153738 6 -0.5061357968462623\n",
            "5.540660965428707 6 -0.4593390345712933\n",
            "6.1456419920356 7 -0.8543580079644002\n",
            "6.282336830724006 6 0.28233683072400595\n",
            "5.902934162985211 7 -1.0970658370147888\n",
            "6.457584029360561 7 -0.5424159706394391\n",
            "6.214986312818748 6 0.21498631281874836\n",
            "5.7745824837838065 6 -0.22541751621619355\n",
            "5.152624717489193 5 0.15262471748919282\n",
            "5.198998923390857 5 0.19899892339085667\n",
            "6.354998423788075 6 0.354998423788075\n",
            "5.022750843842154 5 0.022750843842153756\n",
            "5.684092218768246 5 0.6840922187682459\n",
            "5.26730947378163 5 0.26730947378162995\n",
            "4.633348111198902 5 -0.36665188880109767\n",
            "5.333742102407694 5 0.33374210240769386\n",
            "5.104581400858759 5 0.10458140085875911\n",
            "6.075158322651955 5 1.075158322651955\n",
            "6.2844645526101175 6 0.2844645526101175\n",
            "5.031893917628938 5 0.03189391762893834\n",
            "5.895945372563471 6 -0.10405462743652905\n",
            "5.703335608375799 6 -0.29666439162420133\n",
            "5.017040874894182 5 0.017040874894181712\n",
            "4.980734337464426 5 -0.019265662535573824\n",
            "5.0946509978565295 5 0.09465099785652953\n",
            "5.493076014093699 6 -0.5069239859063011\n",
            "5.099620601045309 6 -0.9003793989546907\n",
            "5.392691116454859 7 -1.6073088835451408\n",
            "4.986389962639276 5 -0.013610037360724192\n",
            "5.646219714869513 5 0.6462197148695132\n",
            "5.034754879626394 5 0.03475487962639434\n",
            "5.671017005937795 7 -1.3289829940622049\n",
            "5.407844158249869 6 -0.5921558417501309\n",
            "5.850994940797381 6 -0.14900505920261864\n",
            "5.590920686567731 5 0.5909206865677312\n",
            "4.687620898708644 4 0.6876208987086443\n",
            "5.538480207818022 6 -0.4615197921819778\n",
            "5.933024463231394 6 -0.06697553676860579\n",
            "5.2515985170804385 5 0.25159851708043846\n",
            "6.370777355539978 6 0.37077735553997826\n",
            "5.699231504114181 6 -0.3007684958858192\n",
            "5.295321026645528 5 0.29532102664552795\n",
            "5.114062807865221 5 0.1140628078652206\n",
            "5.932045817303948 6 -0.06795418269605236\n",
            "6.520551005405093 5 1.5205510054050926\n",
            "5.181959644373947 5 0.18195964437394707\n",
            "5.493819122529786 5 0.49381912252978566\n",
            "5.539578413036988 6 -0.4604215869630117\n",
            "6.242435151357935 7 -0.7575648486420654\n",
            "5.714467206635803 5 0.7144672066358027\n",
            "4.8579705109305955 5 -0.1420294890694045\n",
            "5.854358222188399 6 -0.14564177781160126\n",
            "5.063230930128515 6 -0.9367690698714846\n",
            "6.602078220040351 7 -0.39792177995964906\n",
            "5.548586679819852 6 -0.4514133201801478\n",
            "6.071930116453174 6 0.07193011645317426\n",
            "5.268313788150902 5 0.2683137881509019\n",
            "6.245996566607257 8 -1.754003433392743\n",
            "5.185895377363849 4 1.185895377363849\n",
            "4.963709794572328 5 -0.03629020542767236\n",
            "5.101479164071236 5 0.10147916407123603\n",
            "5.606348145066178 5 0.6063481450661783\n",
            "5.762067226712855 6 -0.23793277328714524\n",
            "5.240904256577583 5 0.24090425657758274\n",
            "6.7541486985674055 7 -0.24585130143259448\n",
            "5.800722678997115 6 -0.1992773210028851\n",
            "5.801846000878896 6 -0.19815399912110365\n",
            "6.518051491710093 7 -0.4819485082899071\n",
            "5.869692088484296 6 -0.13030791151570398\n",
            "5.0045036124480085 5 0.004503612448008454\n",
            "6.376982840623995 6 0.37698284062399523\n",
            "5.2112474073641515 6 -0.7887525926358485\n",
            "6.455940341464203 7 -0.5440596585357973\n",
            "5.32776371918068 5 0.32776371918068037\n",
            "5.3326373177494055 6 -0.6673626822505945\n",
            "5.014504707683258 6 -0.9854952923167417\n",
            "6.353605162452517 7 -0.6463948375474828\n",
            "5.350610045534939 5 0.350610045534939\n",
            "5.221052471108155 5 0.2210524711081554\n",
            "5.34278936266665 5 0.3427893626666503\n",
            "4.883798700810658 3 1.883798700810658\n",
            "5.431785722977583 5 0.4317857229775832\n",
            "5.611389970681099 5 0.611389970681099\n",
            "5.299895752170002 6 -0.7001042478299979\n",
            "6.068784127663786 5 1.0687841276637862\n",
            "6.071930116453174 6 0.07193011645317426\n",
            "5.377159469480105 5 0.37715946948010526\n",
            "5.3305574948538705 7 -1.6694425051461295\n",
            "5.436763293603114 5 0.4367632936031143\n",
            "6.329069747737069 6 0.3290697477370692\n",
            "5.120459408839327 6 -0.8795405911606728\n",
            "6.282461780439466 7 -0.7175382195605344\n",
            "6.249077429496076 8 -1.7509225705039242\n",
            "5.187712013976871 5 0.18771201397687065\n"
          ],
          "name": "stdout"
        }
      ]
    },
    {
      "cell_type": "code",
      "metadata": {
        "id": "SBRB0GohjEHW",
        "colab_type": "code",
        "colab": {
          "base_uri": "https://localhost:8080/",
          "height": 136
        },
        "outputId": "9f2652cc-2a8e-496c-ac02-fcc1231ace02"
      },
      "source": [
        "X_test"
      ],
      "execution_count": null,
      "outputs": [
        {
          "output_type": "execute_result",
          "data": {
            "text/plain": [
              "array([[6.50e+00, 5.80e-01, 0.00e+00, ..., 3.62e+00, 6.20e-01, 1.15e+01],\n",
              "       [7.20e+00, 5.00e-01, 1.80e-01, ..., 3.52e+00, 7.20e-01, 9.60e+00],\n",
              "       [8.20e+00, 2.80e-01, 6.00e-01, ..., 3.39e+00, 6.80e-01, 1.06e+01],\n",
              "       ...,\n",
              "       [5.30e+00, 5.70e-01, 1.00e-02, ..., 3.57e+00, 8.40e-01, 1.25e+01],\n",
              "       [7.40e+00, 3.60e-01, 3.00e-01, ..., 3.24e+00, 7.00e-01, 1.14e+01],\n",
              "       [7.80e+00, 7.60e-01, 4.00e-02, ..., 3.26e+00, 6.50e-01, 9.80e+00]])"
            ]
          },
          "metadata": {
            "tags": []
          },
          "execution_count": 23
        }
      ]
    },
    {
      "cell_type": "code",
      "metadata": {
        "id": "EsAOC6Q-j2Gs",
        "colab_type": "code",
        "colab": {}
      },
      "source": [
        "from sklearn.preprocessing import StandardScaler\n",
        "sc = StandardScaler()\n",
        "X_train = sc.fit_transform(X_train)\n",
        "X_test = sc.transform(X_test)"
      ],
      "execution_count": null,
      "outputs": []
    },
    {
      "cell_type": "code",
      "metadata": {
        "id": "TzjlDBluk26b",
        "colab_type": "code",
        "colab": {
          "base_uri": "https://localhost:8080/",
          "height": 238
        },
        "outputId": "bc5b52ce-42d0-46a1-dabf-b63034f0f4f4"
      },
      "source": [
        "print(X_train)"
      ],
      "execution_count": null,
      "outputs": [
        {
          "output_type": "stream",
          "text": [
            "[[-0.97413438  0.94961063 -0.96646025 ...  0.81163982 -0.47648363\n",
            "  -0.21569954]\n",
            " [-0.46395371  0.44599543 -0.35523428 ... -1.34535885 -1.5195193\n",
            "  -1.05846158]\n",
            " [ 0.32966065  0.33408094  1.17283066 ... -1.72600568  5.49199824\n",
            "  -0.87118112]\n",
            " ...\n",
            " [ 0.32966065  0.36205956  0.71441118 ... -0.26685952 -0.53443005\n",
            "  -1.05846158]\n",
            " [-1.08750786 -0.95293569 -0.30429878 ...  1.00196324  0.62449846\n",
            "  -0.68390067]\n",
            " [-0.29389349 -1.06485018  0.51066919 ...  0.17722845 -0.4185372\n",
            "  -0.96482135]]\n"
          ],
          "name": "stdout"
        }
      ]
    },
    {
      "cell_type": "code",
      "metadata": {
        "id": "XYshIpuSk_0L",
        "colab_type": "code",
        "colab": {}
      },
      "source": [
        "from sklearn.neighbors import KNeighborsClassifier"
      ],
      "execution_count": null,
      "outputs": []
    },
    {
      "cell_type": "code",
      "metadata": {
        "id": "sCK3G2lKlJEx",
        "colab_type": "code",
        "colab": {
          "base_uri": "https://localhost:8080/",
          "height": 68
        },
        "outputId": "0ee252bd-fc9f-41bd-93e6-7a93024c5838"
      },
      "source": [
        "classifier  = KNeighborsClassifier()\n",
        "classifier.fit(X_train, y_train)"
      ],
      "execution_count": null,
      "outputs": [
        {
          "output_type": "execute_result",
          "data": {
            "text/plain": [
              "KNeighborsClassifier(algorithm='auto', leaf_size=30, metric='minkowski',\n",
              "                     metric_params=None, n_jobs=None, n_neighbors=5, p=2,\n",
              "                     weights='uniform')"
            ]
          },
          "metadata": {
            "tags": []
          },
          "execution_count": 47
        }
      ]
    },
    {
      "cell_type": "code",
      "metadata": {
        "id": "C0HbEPWhluGn",
        "colab_type": "code",
        "colab": {
          "base_uri": "https://localhost:8080/",
          "height": 282
        },
        "outputId": "fe1b5dce-c636-45d7-bfee-fd7df70fea17"
      },
      "source": [
        "print(classifier.predict(sc.transform([[30,87000]])))"
      ],
      "execution_count": null,
      "outputs": [
        {
          "output_type": "error",
          "ename": "ValueError",
          "evalue": "ignored",
          "traceback": [
            "\u001b[0;31m---------------------------------------------------------------------------\u001b[0m",
            "\u001b[0;31mValueError\u001b[0m                                Traceback (most recent call last)",
            "\u001b[0;32m<ipython-input-49-88186c8a6ece>\u001b[0m in \u001b[0;36m<module>\u001b[0;34m()\u001b[0m\n\u001b[0;32m----> 1\u001b[0;31m \u001b[0mprint\u001b[0m\u001b[0;34m(\u001b[0m\u001b[0mclassifier\u001b[0m\u001b[0;34m.\u001b[0m\u001b[0mpredict\u001b[0m\u001b[0;34m(\u001b[0m\u001b[0msc\u001b[0m\u001b[0;34m.\u001b[0m\u001b[0mtransform\u001b[0m\u001b[0;34m(\u001b[0m\u001b[0;34m[\u001b[0m\u001b[0;34m[\u001b[0m\u001b[0;36m30\u001b[0m\u001b[0;34m,\u001b[0m\u001b[0;36m87000\u001b[0m\u001b[0;34m]\u001b[0m\u001b[0;34m]\u001b[0m\u001b[0;34m)\u001b[0m\u001b[0;34m)\u001b[0m\u001b[0;34m)\u001b[0m\u001b[0;34m\u001b[0m\u001b[0;34m\u001b[0m\u001b[0m\n\u001b[0m",
            "\u001b[0;32m/usr/local/lib/python3.6/dist-packages/sklearn/preprocessing/_data.py\u001b[0m in \u001b[0;36mtransform\u001b[0;34m(self, X, copy)\u001b[0m\n\u001b[1;32m    804\u001b[0m         \u001b[0;32melse\u001b[0m\u001b[0;34m:\u001b[0m\u001b[0;34m\u001b[0m\u001b[0;34m\u001b[0m\u001b[0m\n\u001b[1;32m    805\u001b[0m             \u001b[0;32mif\u001b[0m \u001b[0mself\u001b[0m\u001b[0;34m.\u001b[0m\u001b[0mwith_mean\u001b[0m\u001b[0;34m:\u001b[0m\u001b[0;34m\u001b[0m\u001b[0;34m\u001b[0m\u001b[0m\n\u001b[0;32m--> 806\u001b[0;31m                 \u001b[0mX\u001b[0m \u001b[0;34m-=\u001b[0m \u001b[0mself\u001b[0m\u001b[0;34m.\u001b[0m\u001b[0mmean_\u001b[0m\u001b[0;34m\u001b[0m\u001b[0;34m\u001b[0m\u001b[0m\n\u001b[0m\u001b[1;32m    807\u001b[0m             \u001b[0;32mif\u001b[0m \u001b[0mself\u001b[0m\u001b[0;34m.\u001b[0m\u001b[0mwith_std\u001b[0m\u001b[0;34m:\u001b[0m\u001b[0;34m\u001b[0m\u001b[0;34m\u001b[0m\u001b[0m\n\u001b[1;32m    808\u001b[0m                 \u001b[0mX\u001b[0m \u001b[0;34m/=\u001b[0m \u001b[0mself\u001b[0m\u001b[0;34m.\u001b[0m\u001b[0mscale_\u001b[0m\u001b[0;34m\u001b[0m\u001b[0;34m\u001b[0m\u001b[0m\n",
            "\u001b[0;31mValueError\u001b[0m: operands could not be broadcast together with shapes (1,2) (11,) (1,2) "
          ]
        }
      ]
    },
    {
      "cell_type": "code",
      "metadata": {
        "id": "2SLbbUCvlud6",
        "colab_type": "code",
        "colab": {
          "base_uri": "https://localhost:8080/",
          "height": 1000
        },
        "outputId": "422c7d90-0091-4306-cbff-3c17b3be37ec"
      },
      "source": [
        "y_pred = classifier.predict(X_test)\n",
        "print(np.concatenate((y_pred.reshape(len(y_pred),1), y_test.reshape(len(y_test),1)),1))"
      ],
      "execution_count": null,
      "outputs": [
        {
          "output_type": "stream",
          "text": [
            "[[6 4]\n",
            " [6 6]\n",
            " [5 5]\n",
            " [5 5]\n",
            " [5 5]\n",
            " [5 6]\n",
            " [6 6]\n",
            " [7 7]\n",
            " [5 5]\n",
            " [6 7]\n",
            " [5 6]\n",
            " [7 5]\n",
            " [6 6]\n",
            " [6 5]\n",
            " [6 6]\n",
            " [6 5]\n",
            " [5 5]\n",
            " [5 6]\n",
            " [6 5]\n",
            " [5 5]\n",
            " [5 6]\n",
            " [5 6]\n",
            " [6 6]\n",
            " [5 5]\n",
            " [6 4]\n",
            " [6 7]\n",
            " [5 5]\n",
            " [6 5]\n",
            " [6 5]\n",
            " [7 6]\n",
            " [5 7]\n",
            " [6 5]\n",
            " [6 5]\n",
            " [5 5]\n",
            " [6 5]\n",
            " [6 6]\n",
            " [6 7]\n",
            " [6 6]\n",
            " [5 5]\n",
            " [6 7]\n",
            " [6 6]\n",
            " [6 5]\n",
            " [5 5]\n",
            " [6 5]\n",
            " [7 6]\n",
            " [6 7]\n",
            " [6 5]\n",
            " [7 7]\n",
            " [5 6]\n",
            " [6 5]\n",
            " [6 3]\n",
            " [5 5]\n",
            " [6 6]\n",
            " [7 6]\n",
            " [5 5]\n",
            " [6 6]\n",
            " [5 6]\n",
            " [5 5]\n",
            " [6 6]\n",
            " [5 6]\n",
            " [6 7]\n",
            " [6 7]\n",
            " [5 3]\n",
            " [5 6]\n",
            " [7 6]\n",
            " [3 5]\n",
            " [5 5]\n",
            " [6 6]\n",
            " [6 6]\n",
            " [6 6]\n",
            " [6 6]\n",
            " [5 7]\n",
            " [5 5]\n",
            " [6 6]\n",
            " [7 7]\n",
            " [6 6]\n",
            " [6 6]\n",
            " [5 5]\n",
            " [5 5]\n",
            " [6 7]\n",
            " [4 5]\n",
            " [5 5]\n",
            " [7 6]\n",
            " [6 6]\n",
            " [5 7]\n",
            " [5 5]\n",
            " [5 5]\n",
            " [5 6]\n",
            " [4 5]\n",
            " [6 6]\n",
            " [5 5]\n",
            " [6 6]\n",
            " [7 6]\n",
            " [5 5]\n",
            " [5 5]\n",
            " [7 8]\n",
            " [5 5]\n",
            " [6 5]\n",
            " [6 6]\n",
            " [5 6]\n",
            " [5 6]\n",
            " [5 5]\n",
            " [6 7]\n",
            " [7 7]\n",
            " [6 7]\n",
            " [5 5]\n",
            " [5 6]\n",
            " [6 5]\n",
            " [5 5]\n",
            " [5 5]\n",
            " [7 6]\n",
            " [6 6]\n",
            " [5 6]\n",
            " [6 5]\n",
            " [6 5]\n",
            " [6 7]\n",
            " [5 6]\n",
            " [6 6]\n",
            " [5 5]\n",
            " [5 5]\n",
            " [5 3]\n",
            " [6 5]\n",
            " [5 6]\n",
            " [5 5]\n",
            " [6 6]\n",
            " [6 6]\n",
            " [6 6]\n",
            " [5 6]\n",
            " [5 5]\n",
            " [6 6]\n",
            " [5 5]\n",
            " [5 5]\n",
            " [7 6]\n",
            " [6 6]\n",
            " [5 5]\n",
            " [5 5]\n",
            " [6 5]\n",
            " [5 6]\n",
            " [7 7]\n",
            " [5 5]\n",
            " [6 5]\n",
            " [5 6]\n",
            " [5 5]\n",
            " [5 4]\n",
            " [6 7]\n",
            " [5 5]\n",
            " [4 5]\n",
            " [6 5]\n",
            " [7 6]\n",
            " [5 7]\n",
            " [6 7]\n",
            " [6 5]\n",
            " [7 5]\n",
            " [6 6]\n",
            " [5 5]\n",
            " [5 5]\n",
            " [6 6]\n",
            " [5 5]\n",
            " [7 6]\n",
            " [5 5]\n",
            " [6 6]\n",
            " [5 7]\n",
            " [7 7]\n",
            " [6 6]\n",
            " [5 5]\n",
            " [5 5]\n",
            " [6 6]\n",
            " [5 5]\n",
            " [5 6]\n",
            " [6 6]\n",
            " [5 5]\n",
            " [5 4]\n",
            " [5 6]\n",
            " [5 5]\n",
            " [5 5]\n",
            " [6 7]\n",
            " [7 6]\n",
            " [5 5]\n",
            " [6 7]\n",
            " [6 6]\n",
            " [6 6]\n",
            " [5 6]\n",
            " [6 6]\n",
            " [6 5]\n",
            " [5 6]\n",
            " [6 6]\n",
            " [5 5]\n",
            " [7 7]\n",
            " [5 5]\n",
            " [6 5]\n",
            " [5 5]\n",
            " [7 6]\n",
            " [7 7]\n",
            " [6 7]\n",
            " [6 6]\n",
            " [6 6]\n",
            " [5 5]\n",
            " [5 5]\n",
            " [6 6]\n",
            " [5 6]\n",
            " [5 5]\n",
            " [6 6]\n",
            " [6 5]\n",
            " [6 6]\n",
            " [5 5]\n",
            " [5 5]\n",
            " [5 5]\n",
            " [5 6]\n",
            " [6 5]\n",
            " [6 5]\n",
            " [5 5]\n",
            " [5 5]\n",
            " [6 5]\n",
            " [6 6]\n",
            " [5 6]\n",
            " [5 6]\n",
            " [6 6]\n",
            " [5 5]\n",
            " [5 6]\n",
            " [6 6]\n",
            " [5 5]\n",
            " [6 6]\n",
            " [6 7]\n",
            " [7 7]\n",
            " [5 5]\n",
            " [5 6]\n",
            " [5 6]\n",
            " [6 6]\n",
            " [7 7]\n",
            " [7 6]\n",
            " [5 7]\n",
            " [6 7]\n",
            " [6 6]\n",
            " [6 6]\n",
            " [5 5]\n",
            " [5 5]\n",
            " [7 6]\n",
            " [5 5]\n",
            " [6 5]\n",
            " [5 5]\n",
            " [5 5]\n",
            " [6 5]\n",
            " [5 5]\n",
            " [6 5]\n",
            " [6 6]\n",
            " [4 5]\n",
            " [6 6]\n",
            " [6 6]\n",
            " [4 5]\n",
            " [5 5]\n",
            " [5 5]\n",
            " [5 6]\n",
            " [5 6]\n",
            " [6 7]\n",
            " [5 5]\n",
            " [5 5]\n",
            " [5 5]\n",
            " [6 7]\n",
            " [6 6]\n",
            " [5 6]\n",
            " [5 5]\n",
            " [5 4]\n",
            " [5 6]\n",
            " [6 6]\n",
            " [5 5]\n",
            " [7 6]\n",
            " [6 6]\n",
            " [5 5]\n",
            " [5 5]\n",
            " [6 6]\n",
            " [6 5]\n",
            " [5 5]\n",
            " [5 5]\n",
            " [5 6]\n",
            " [7 7]\n",
            " [5 5]\n",
            " [5 5]\n",
            " [6 6]\n",
            " [5 6]\n",
            " [7 7]\n",
            " [5 6]\n",
            " [6 6]\n",
            " [5 5]\n",
            " [5 8]\n",
            " [6 4]\n",
            " [5 5]\n",
            " [5 5]\n",
            " [6 5]\n",
            " [6 6]\n",
            " [5 5]\n",
            " [7 7]\n",
            " [6 6]\n",
            " [6 6]\n",
            " [7 7]\n",
            " [5 6]\n",
            " [5 5]\n",
            " [7 6]\n",
            " [5 6]\n",
            " [7 7]\n",
            " [5 5]\n",
            " [5 6]\n",
            " [5 6]\n",
            " [6 7]\n",
            " [5 5]\n",
            " [6 5]\n",
            " [5 5]\n",
            " [5 3]\n",
            " [5 5]\n",
            " [6 5]\n",
            " [6 6]\n",
            " [6 5]\n",
            " [6 6]\n",
            " [5 5]\n",
            " [5 7]\n",
            " [5 5]\n",
            " [6 6]\n",
            " [6 6]\n",
            " [6 7]\n",
            " [6 8]\n",
            " [5 5]]\n"
          ],
          "name": "stdout"
        }
      ]
    },
    {
      "cell_type": "code",
      "metadata": {
        "id": "wJ5a0PwqlNwb",
        "colab_type": "code",
        "colab": {
          "base_uri": "https://localhost:8080/",
          "height": 136
        },
        "outputId": "8951afac-7ff5-436a-8e5d-ad737d2b042c"
      },
      "source": [
        "from sklearn.metrics import confusion_matrix, accuracy_score\n",
        "cm = confusion_matrix(y_test, y_pred)\n",
        "print(cm)\n",
        "accuracy_score(y_test, y_pred)"
      ],
      "execution_count": null,
      "outputs": [
        {
          "output_type": "stream",
          "text": [
            "[[ 0  0  3  1  0  0]\n",
            " [ 0  0  3  3  0  0]\n",
            " [ 1  5 96 35  2  0]\n",
            " [ 0  0 41 67 16  0]\n",
            " [ 0  0  7 22 15  0]\n",
            " [ 0  0  1  1  1  0]]\n"
          ],
          "name": "stdout"
        },
        {
          "output_type": "execute_result",
          "data": {
            "text/plain": [
              "0.55625"
            ]
          },
          "metadata": {
            "tags": []
          },
          "execution_count": 55
        }
      ]
    },
    {
      "cell_type": "code",
      "metadata": {
        "id": "ZWxvmC83mVIP",
        "colab_type": "code",
        "colab": {}
      },
      "source": [
        "from sklearn.linear_model import LogisticRegression\n",
        "from sklearn.neighbors import KNeighborsClassifier\n",
        "from sklearn.tree import DecisionTreeClassifier\n",
        "from sklearn.ensemble import RandomForestClassifier\n",
        "from sklearn.svm import SVC"
      ],
      "execution_count": null,
      "outputs": []
    },
    {
      "cell_type": "code",
      "metadata": {
        "id": "xMLwFvgasIcF",
        "colab_type": "code",
        "colab": {}
      },
      "source": [
        "l_cla = LogisticRegression()\n",
        "k_cla = KNeighborsClassifier()\n",
        "d_cla = DecisionTreeClassifier()\n",
        "r_cla = RandomForestClassifier()\n",
        "s_cla = SVC(kernel='linear')\n",
        "ks_cla = SVC(kernel= 'rbf')"
      ],
      "execution_count": null,
      "outputs": []
    },
    {
      "cell_type": "code",
      "metadata": {
        "id": "nTY5rPKAsNxM",
        "colab_type": "code",
        "colab": {
          "base_uri": "https://localhost:8080/",
          "height": 241
        },
        "outputId": "871f2d8c-035e-486c-e4ca-ec103c3828e7"
      },
      "source": [
        "l_cla.fit(X_train, y_train)\n",
        "k_cla.fit(X_train, y_train)\n",
        "d_cla.fit(X_train, y_train)\n",
        "r_cla.fit(X_train, y_train)\n",
        "s_cla.fit(X_train, y_train)\n",
        "ks_cla.fit(X_train, y_train)"
      ],
      "execution_count": null,
      "outputs": [
        {
          "output_type": "stream",
          "text": [
            "/usr/local/lib/python3.6/dist-packages/sklearn/linear_model/_logistic.py:940: ConvergenceWarning: lbfgs failed to converge (status=1):\n",
            "STOP: TOTAL NO. of ITERATIONS REACHED LIMIT.\n",
            "\n",
            "Increase the number of iterations (max_iter) or scale the data as shown in:\n",
            "    https://scikit-learn.org/stable/modules/preprocessing.html\n",
            "Please also refer to the documentation for alternative solver options:\n",
            "    https://scikit-learn.org/stable/modules/linear_model.html#logistic-regression\n",
            "  extra_warning_msg=_LOGISTIC_SOLVER_CONVERGENCE_MSG)\n"
          ],
          "name": "stderr"
        },
        {
          "output_type": "execute_result",
          "data": {
            "text/plain": [
              "SVC(C=1.0, break_ties=False, cache_size=200, class_weight=None, coef0=0.0,\n",
              "    decision_function_shape='ovr', degree=3, gamma='scale', kernel='rbf',\n",
              "    max_iter=-1, probability=False, random_state=None, shrinking=True,\n",
              "    tol=0.001, verbose=False)"
            ]
          },
          "metadata": {
            "tags": []
          },
          "execution_count": 59
        }
      ]
    },
    {
      "cell_type": "code",
      "metadata": {
        "id": "zZRMiJXqsTOV",
        "colab_type": "code",
        "colab": {}
      },
      "source": [
        "l_pred = l_cla.predict(X_test)\n",
        "k_pred = k_cla.predict(X_test)\n",
        "d_pred = d_cla.predict(X_test)\n",
        "r_pred = r_cla.predict(X_test)\n",
        "s_pred = s_cla.predict(X_test)\n",
        "ks_pred = ks_cla.predict(X_test)"
      ],
      "execution_count": null,
      "outputs": []
    },
    {
      "cell_type": "code",
      "metadata": {
        "id": "fqfcI9c-sbFG",
        "colab_type": "code",
        "colab": {}
      },
      "source": [
        "from sklearn.metrics import confusion_matrix\n",
        "l_c = confusion_matrix(y_test, l_pred)\n",
        "k_c = confusion_matrix(y_test, k_pred)\n",
        "d_c = confusion_matrix(y_test, d_pred)\n",
        "r_c = confusion_matrix(y_test, r_pred)\n",
        "s_c = confusion_matrix(y_test, s_pred)\n",
        "ks_c = confusion_matrix(y_test, ks_pred)"
      ],
      "execution_count": null,
      "outputs": []
    },
    {
      "cell_type": "code",
      "metadata": {
        "id": "8cXQgZOdsoHY",
        "colab_type": "code",
        "colab": {
          "base_uri": "https://localhost:8080/",
          "height": 119
        },
        "outputId": "f4d4d38b-a0b4-4a1f-c61e-dc30762f7349"
      },
      "source": [
        "l_c"
      ],
      "execution_count": null,
      "outputs": [
        {
          "output_type": "execute_result",
          "data": {
            "text/plain": [
              "array([[ 0,  0,  3,  1,  0,  0],\n",
              "       [ 0,  0,  3,  3,  0,  0],\n",
              "       [ 1,  5, 96, 35,  2,  0],\n",
              "       [ 0,  0, 41, 67, 16,  0],\n",
              "       [ 0,  0,  7, 22, 15,  0],\n",
              "       [ 0,  0,  1,  1,  1,  0]])"
            ]
          },
          "metadata": {
            "tags": []
          },
          "execution_count": 64
        }
      ]
    },
    {
      "cell_type": "code",
      "metadata": {
        "id": "lKpwQ8Ejs16X",
        "colab_type": "code",
        "colab": {
          "base_uri": "https://localhost:8080/",
          "height": 119
        },
        "outputId": "044aa99d-3583-48f3-fa83-c12f8bf57497"
      },
      "source": [
        "k_c"
      ],
      "execution_count": null,
      "outputs": [
        {
          "output_type": "execute_result",
          "data": {
            "text/plain": [
              "array([[ 0,  0,  3,  1,  0,  0],\n",
              "       [ 0,  0,  3,  3,  0,  0],\n",
              "       [ 1,  5, 96, 35,  2,  0],\n",
              "       [ 0,  0, 41, 67, 16,  0],\n",
              "       [ 0,  0,  7, 22, 15,  0],\n",
              "       [ 0,  0,  1,  1,  1,  0]])"
            ]
          },
          "metadata": {
            "tags": []
          },
          "execution_count": 65
        }
      ]
    },
    {
      "cell_type": "code",
      "metadata": {
        "id": "q3gPVInutGn9",
        "colab_type": "code",
        "colab": {
          "base_uri": "https://localhost:8080/",
          "height": 119
        },
        "outputId": "4516df00-8968-42b0-a1de-40b60d974d41"
      },
      "source": [
        "d_c"
      ],
      "execution_count": null,
      "outputs": [
        {
          "output_type": "execute_result",
          "data": {
            "text/plain": [
              "array([[ 0,  1,  1,  2,  0,  0],\n",
              "       [ 0,  2,  1,  2,  1,  0],\n",
              "       [ 0,  5, 92, 37,  4,  1],\n",
              "       [ 0,  2, 31, 75, 16,  0],\n",
              "       [ 0,  1,  8,  8, 26,  1],\n",
              "       [ 0,  0,  1,  1,  1,  0]])"
            ]
          },
          "metadata": {
            "tags": []
          },
          "execution_count": 66
        }
      ]
    },
    {
      "cell_type": "code",
      "metadata": {
        "id": "OYuuHsNItJNd",
        "colab_type": "code",
        "colab": {
          "base_uri": "https://localhost:8080/",
          "height": 119
        },
        "outputId": "8d3eb258-3616-4028-b33c-3c7ce8ad21eb"
      },
      "source": [
        "s_c"
      ],
      "execution_count": null,
      "outputs": [
        {
          "output_type": "execute_result",
          "data": {
            "text/plain": [
              "array([[  0,   0,   4,   0,   0,   0],\n",
              "       [  0,   0,   4,   2,   0,   0],\n",
              "       [  0,   0, 106,  33,   0,   0],\n",
              "       [  0,   0,  50,  74,   0,   0],\n",
              "       [  0,   0,   3,  41,   0,   0],\n",
              "       [  0,   0,   0,   3,   0,   0]])"
            ]
          },
          "metadata": {
            "tags": []
          },
          "execution_count": 67
        }
      ]
    },
    {
      "cell_type": "code",
      "metadata": {
        "id": "dBXIRpjKtRC7",
        "colab_type": "code",
        "colab": {
          "base_uri": "https://localhost:8080/",
          "height": 119
        },
        "outputId": "bbdc4c41-6b8b-45f0-8d79-cc2e1d8c28b8"
      },
      "source": [
        "ks_c"
      ],
      "execution_count": null,
      "outputs": [
        {
          "output_type": "execute_result",
          "data": {
            "text/plain": [
              "array([[  0,   0,   3,   1,   0,   0],\n",
              "       [  0,   0,   4,   2,   0,   0],\n",
              "       [  0,   0, 105,  32,   2,   0],\n",
              "       [  0,   0,  49,  69,   6,   0],\n",
              "       [  0,   0,   4,  25,  15,   0],\n",
              "       [  0,   0,   0,   2,   1,   0]])"
            ]
          },
          "metadata": {
            "tags": []
          },
          "execution_count": 68
        }
      ]
    },
    {
      "cell_type": "code",
      "metadata": {
        "id": "gv_nr3ottVVp",
        "colab_type": "code",
        "colab": {}
      },
      "source": [
        "l_a = accuracy_score(y_test, l_pred)\n",
        "k_a = accuracy_score(y_test, k_pred)\n",
        "d_a = accuracy_score(y_test, d_pred)\n",
        "r_a = accuracy_score(y_test, r_pred)\n",
        "s_a = accuracy_score(y_test, s_pred)\n",
        "ks_a = accuracy_score(y_test, ks_pred)\n"
      ],
      "execution_count": null,
      "outputs": []
    },
    {
      "cell_type": "code",
      "metadata": {
        "id": "J-fM58yqtasT",
        "colab_type": "code",
        "colab": {
          "base_uri": "https://localhost:8080/",
          "height": 119
        },
        "outputId": "249cd343-59a2-4e7c-c2c4-48c43bdc6593"
      },
      "source": [
        "print('Logistic Regression: ' + str(l_a) + '\\nKNN: ' + str(k_a) + '\\nDecision Tree: ' + str(d_a) + '\\nRandom Forest: ' + str(r_a) + '\\nLinear SVC: ' + str(s_a) + '\\nKernel SVC: ' + str(l_a))"
      ],
      "execution_count": null,
      "outputs": [
        {
          "output_type": "stream",
          "text": [
            "Logistic Regression: 0.5875\n",
            "KNN: 0.55625\n",
            "Decision Tree: 0.609375\n",
            "Random Forest: 0.6625\n",
            "Linear SVC: 0.5625\n",
            "Kernel SVC: 0.5875\n"
          ],
          "name": "stdout"
        }
      ]
    },
    {
      "cell_type": "code",
      "metadata": {
        "id": "1Uh11V8stfU4",
        "colab_type": "code",
        "colab": {}
      },
      "source": [
        ""
      ],
      "execution_count": null,
      "outputs": []
    }
  ]
}